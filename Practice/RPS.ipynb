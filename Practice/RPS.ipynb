{
  "nbformat": 4,
  "nbformat_minor": 0,
  "metadata": {
    "colab": {
      "name": "RPS.ipynb",
      "provenance": [],
      "collapsed_sections": [],
      "authorship_tag": "ABX9TyPdjJsHLh8tpMVBz2fktXty",
      "include_colab_link": true
    },
    "kernelspec": {
      "name": "python3",
      "display_name": "Python 3"
    },
    "accelerator": "GPU"
  },
  "cells": [
    {
      "cell_type": "markdown",
      "metadata": {
        "id": "view-in-github",
        "colab_type": "text"
      },
      "source": [
        "<a href=\"https://colab.research.google.com/github/praveenwork/ml/blob/main/Practice/RPS.ipynb\" target=\"_parent\"><img src=\"https://colab.research.google.com/assets/colab-badge.svg\" alt=\"Open In Colab\"/></a>"
      ]
    },
    {
      "cell_type": "code",
      "metadata": {
        "colab": {
          "base_uri": "https://localhost:8080/"
        },
        "id": "iDvhfS0PAUK9",
        "outputId": "eed638a9-d0fb-48c8-accd-5b222c924402"
      },
      "source": [
        "!wget --no-check-certificate \\\n",
        "    https://storage.googleapis.com/laurencemoroney-blog.appspot.com/rps.zip \\\n",
        "    -O /tmp/rps.zip\n",
        "  \n",
        "!wget --no-check-certificate \\\n",
        "    https://storage.googleapis.com/laurencemoroney-blog.appspot.com/rps-test-set.zip \\\n",
        "    -O /tmp/rps-test-set.zip"
      ],
      "execution_count": 1,
      "outputs": [
        {
          "output_type": "stream",
          "text": [
            "--2021-02-12 00:51:25--  https://storage.googleapis.com/laurencemoroney-blog.appspot.com/rps.zip\n",
            "Resolving storage.googleapis.com (storage.googleapis.com)... 172.253.122.128, 172.253.63.128, 142.250.31.128, ...\n",
            "Connecting to storage.googleapis.com (storage.googleapis.com)|172.253.122.128|:443... connected.\n",
            "HTTP request sent, awaiting response... 200 OK\n",
            "Length: 200682221 (191M) [application/zip]\n",
            "Saving to: ‘/tmp/rps.zip’\n",
            "\n",
            "/tmp/rps.zip        100%[===================>] 191.38M   211MB/s    in 0.9s    \n",
            "\n",
            "2021-02-12 00:51:26 (211 MB/s) - ‘/tmp/rps.zip’ saved [200682221/200682221]\n",
            "\n",
            "--2021-02-12 00:51:26--  https://storage.googleapis.com/laurencemoroney-blog.appspot.com/rps-test-set.zip\n",
            "Resolving storage.googleapis.com (storage.googleapis.com)... 172.253.122.128, 142.250.31.128, 142.250.73.240, ...\n",
            "Connecting to storage.googleapis.com (storage.googleapis.com)|172.253.122.128|:443... connected.\n",
            "HTTP request sent, awaiting response... 200 OK\n",
            "Length: 29516758 (28M) [application/zip]\n",
            "Saving to: ‘/tmp/rps-test-set.zip’\n",
            "\n",
            "/tmp/rps-test-set.z 100%[===================>]  28.15M   156MB/s    in 0.2s    \n",
            "\n",
            "2021-02-12 00:51:26 (156 MB/s) - ‘/tmp/rps-test-set.zip’ saved [29516758/29516758]\n",
            "\n"
          ],
          "name": "stdout"
        }
      ]
    },
    {
      "cell_type": "code",
      "metadata": {
        "id": "jP5aKYiFAXxs"
      },
      "source": [
        "# unzip\n",
        "\n",
        "import os\n",
        "import zipfile\n",
        "\n",
        "rps_zip_ref = zipfile.ZipFile(\"/tmp/rps.zip\")\n",
        "rps_zip_ref.extractall(\"/tmp\")\n",
        "rps_zip_ref.close()\n",
        "\n",
        "\n",
        "rps_test_zip_ref = zipfile.ZipFile(\"/tmp/rps-test-set.zip\")\n",
        "rps_test_zip_ref.extractall(\"/tmp\")\n",
        "rps_test_zip_ref.close()"
      ],
      "execution_count": 2,
      "outputs": []
    },
    {
      "cell_type": "code",
      "metadata": {
        "colab": {
          "base_uri": "https://localhost:8080/"
        },
        "id": "_kMlRU5CBMVq",
        "outputId": "bc246fc6-8fc4-4554-e518-b166023cdb3d"
      },
      "source": [
        "train_dir = \"/tmp/rps\"\n",
        "validation_dir = \"/tmp/rps-test-set\"\n",
        "\n",
        "train_paper_dir = os.path.join(train_dir, \"paper\")\n",
        "train_rock_dir = os.path.join(train_dir, \"rock\")\n",
        "train_scissors_dir = os.path.join(train_dir, \"scissors\")\n",
        "\n",
        "train_paper_dir_filenames = len(os.listdir(train_paper_dir))\n",
        "train_rock_dir_filenames = len(os.listdir(train_rock_dir))\n",
        "train_scissors_dir_filenames = len(os.listdir(train_scissors_dir))\n",
        "\n",
        "validation_paper_dir = os.path.join(validation_dir, \"paper\")\n",
        "validation_rock_dir = os.path.join(validation_dir, \"rock\")\n",
        "validation_scissors_dir = os.path.join(validation_dir, \"scissors\")\n",
        "\n",
        "validation_paper_dir_filenames = len(os.listdir(validation_paper_dir))\n",
        "validation_rock_dir_filenames = len(os.listdir(validation_rock_dir))\n",
        "validation_scissors_dir_filenames = len(os.listdir(validation_scissors_dir))\n",
        "\n",
        "print(train_paper_dir_filenames)\n",
        "print(train_rock_dir_filenames)\n",
        "print(train_scissors_dir_filenames)\n",
        "\n",
        "print(validation_paper_dir_filenames)\n",
        "print(validation_rock_dir_filenames)\n",
        "print(validation_scissors_dir_filenames)\n",
        "\n",
        "\n",
        "\n"
      ],
      "execution_count": 3,
      "outputs": [
        {
          "output_type": "stream",
          "text": [
            "840\n",
            "840\n",
            "840\n",
            "124\n",
            "124\n",
            "124\n"
          ],
          "name": "stdout"
        }
      ]
    },
    {
      "cell_type": "code",
      "metadata": {
        "colab": {
          "base_uri": "https://localhost:8080/"
        },
        "id": "_TRzxQqZFFWr",
        "outputId": "5e05e692-5233-458f-c0b8-41953b7bf8bc"
      },
      "source": [
        "import tensorflow as tf\n",
        "from tensorflow.keras.preprocessing.image import ImageDataGenerator\n",
        "\n",
        "\n",
        "training_datagen = ImageDataGenerator(\n",
        "    rescale = 1./255,\n",
        "    rotation_range = 40,\n",
        "    width_shift_range = 0.2,\n",
        "    height_shift_range = 0.2,\n",
        "    shear_range = 0.2,\n",
        "    horizontal_flip = True,\n",
        "    zoom_range = 0.2,\n",
        "    fill_mode = 'nearest'\n",
        ")\n",
        "\n",
        "train_generator = training_datagen.flow_from_directory(\n",
        "    train_dir,\n",
        "    target_size = (150,150),\n",
        "    batch_size = 10,\n",
        "    class_mode = 'categorical'\n",
        ")\n",
        "\n",
        "\n",
        "validation_datagen = ImageDataGenerator(rescale = 1./255)\n",
        "validation_generator = validation_datagen.flow_from_directory(\n",
        "    validation_dir,\n",
        "    target_size = (150,150),\n",
        "    batch_size = 10, \n",
        "    class_mode = 'categorical'\n",
        ")\n",
        "\n",
        "\n",
        "\n",
        "model = tf.keras.models.Sequential([\n",
        "            tf.keras.layers.Conv2D(32, (3,3), activation = tf.nn.relu, input_shape = (150,150,3)),\n",
        "            tf.keras.layers.MaxPooling2D(2,2),\n",
        "\n",
        "            tf.keras.layers.Conv2D(64, (3,3), activation = tf.nn.relu),\n",
        "            tf.keras.layers.MaxPooling2D(2,2),\n",
        "\n",
        "            tf.keras.layers.Conv2D(64, (3,3), activation = tf.nn.relu),\n",
        "            tf.keras.layers.MaxPooling2D(2,2),\n",
        "\n",
        "            tf.keras.layers.Flatten(),\n",
        "            tf.keras.layers.Dropout(0.5),\n",
        "            tf.keras.layers.Dense(1024, activation = tf.nn.relu),\n",
        "            tf.keras.layers.Dense(3, activation = tf.nn.softmax)\n",
        "])\n",
        "\n",
        "model.compile(optimizer = 'rmsprop', loss = \"categorical_crossentropy\", metrics = ['accuracy'])\n",
        "\n",
        "history = model.fit(\n",
        "    train_generator,\n",
        "    steps_per_epoch = 84,\n",
        "    epochs = 10,\n",
        "    validation_data = validation_generator,\n",
        "    validation_steps = 13,\n",
        "    verbose = 1\n",
        ")\n",
        "\n",
        "model.summary()"
      ],
      "execution_count": 4,
      "outputs": [
        {
          "output_type": "stream",
          "text": [
            "Found 2520 images belonging to 3 classes.\n",
            "Found 372 images belonging to 3 classes.\n",
            "Epoch 1/10\n",
            "84/84 [==============================] - 15s 91ms/step - loss: 1.7068 - accuracy: 0.3676 - val_loss: 1.0355 - val_accuracy: 0.2846\n",
            "Epoch 2/10\n",
            "84/84 [==============================] - 7s 87ms/step - loss: 1.0677 - accuracy: 0.4498 - val_loss: 0.7505 - val_accuracy: 0.7231\n",
            "Epoch 3/10\n",
            "84/84 [==============================] - 7s 86ms/step - loss: 0.8883 - accuracy: 0.6200 - val_loss: 0.4417 - val_accuracy: 0.9077\n",
            "Epoch 4/10\n",
            "84/84 [==============================] - 7s 86ms/step - loss: 0.7461 - accuracy: 0.6621 - val_loss: 0.4383 - val_accuracy: 0.8077\n",
            "Epoch 5/10\n",
            "84/84 [==============================] - 7s 88ms/step - loss: 0.6577 - accuracy: 0.7092 - val_loss: 0.3258 - val_accuracy: 0.8615\n",
            "Epoch 6/10\n",
            "84/84 [==============================] - 7s 86ms/step - loss: 0.6124 - accuracy: 0.7268 - val_loss: 0.2422 - val_accuracy: 0.8769\n",
            "Epoch 7/10\n",
            "84/84 [==============================] - 7s 87ms/step - loss: 0.4590 - accuracy: 0.8355 - val_loss: 0.1111 - val_accuracy: 0.9769\n",
            "Epoch 8/10\n",
            "84/84 [==============================] - 7s 87ms/step - loss: 0.4634 - accuracy: 0.8247 - val_loss: 0.2139 - val_accuracy: 0.9308\n",
            "Epoch 9/10\n",
            "84/84 [==============================] - 7s 86ms/step - loss: 0.3696 - accuracy: 0.8425 - val_loss: 0.0916 - val_accuracy: 0.9692\n",
            "Epoch 10/10\n",
            "84/84 [==============================] - 7s 86ms/step - loss: 0.3365 - accuracy: 0.8667 - val_loss: 0.1878 - val_accuracy: 0.9077\n",
            "Model: \"sequential\"\n",
            "_________________________________________________________________\n",
            "Layer (type)                 Output Shape              Param #   \n",
            "=================================================================\n",
            "conv2d (Conv2D)              (None, 148, 148, 32)      896       \n",
            "_________________________________________________________________\n",
            "max_pooling2d (MaxPooling2D) (None, 74, 74, 32)        0         \n",
            "_________________________________________________________________\n",
            "conv2d_1 (Conv2D)            (None, 72, 72, 64)        18496     \n",
            "_________________________________________________________________\n",
            "max_pooling2d_1 (MaxPooling2 (None, 36, 36, 64)        0         \n",
            "_________________________________________________________________\n",
            "conv2d_2 (Conv2D)            (None, 34, 34, 64)        36928     \n",
            "_________________________________________________________________\n",
            "max_pooling2d_2 (MaxPooling2 (None, 17, 17, 64)        0         \n",
            "_________________________________________________________________\n",
            "flatten (Flatten)            (None, 18496)             0         \n",
            "_________________________________________________________________\n",
            "dropout (Dropout)            (None, 18496)             0         \n",
            "_________________________________________________________________\n",
            "dense (Dense)                (None, 1024)              18940928  \n",
            "_________________________________________________________________\n",
            "dense_1 (Dense)              (None, 3)                 3075      \n",
            "=================================================================\n",
            "Total params: 19,000,323\n",
            "Trainable params: 19,000,323\n",
            "Non-trainable params: 0\n",
            "_________________________________________________________________\n"
          ],
          "name": "stdout"
        }
      ]
    },
    {
      "cell_type": "code",
      "metadata": {
        "colab": {
          "base_uri": "https://localhost:8080/",
          "height": 531
        },
        "id": "-fMN-aIjHf6O",
        "outputId": "0338e1bd-3c16-4cee-9868-b34a1a5e40aa"
      },
      "source": [
        "import matplotlib.pyplot as plt\n",
        "\n",
        "training_accuracy = history.history['accuracy']\n",
        "training_loss = history.history['loss']\n",
        "\n",
        "validation_accuracy = history.history['val_accuracy']\n",
        "validation_loss = history.history['val_loss']\n",
        "\n",
        "epoch = range(len(training_accuracy))\n",
        "plt.plot(epoch, training_accuracy)\n",
        "plt.plot(epoch, validation_accuracy)\n",
        "plt.figure()\n",
        "\n",
        "plt.plot(epoch, training_loss)\n",
        "plt.plot(epoch, validation_loss)\n",
        "plt.figure()\n",
        "\n",
        "plt.show()\n"
      ],
      "execution_count": 5,
      "outputs": [
        {
          "output_type": "display_data",
          "data": {
            "image/png": "[encoded data removed]",
            "text/plain": [
              "<Figure size 432x288 with 1 Axes>"
            ]
          },
          "metadata": {
            "tags": [],
            "needs_background": "light"
          }
        },
        {
          "output_type": "display_data",
          "data": {
            "image/png": "[encoded data removed]",
            "text/plain": [
              "<Figure size 432x288 with 1 Axes>"
            ]
          },
          "metadata": {
            "tags": [],
            "needs_background": "light"
          }
        },
        {
          "output_type": "display_data",
          "data": {
            "text/plain": [
              "<Figure size 432x288 with 0 Axes>"
            ]
          },
          "metadata": {
            "tags": []
          }
        }
      ]
    },
    {
      "cell_type": "code",
      "metadata": {
        "id": "R_Ppe0yKnQsi"
      },
      "source": [
        ""
      ],
      "execution_count": null,
      "outputs": []
    }
  ]
}