{
  "nbformat": 4,
  "nbformat_minor": 0,
  "metadata": {
    "colab": {
      "name": "NLP-1.ipynb",
      "provenance": [],
      "authorship_tag": "ABX9TyPj24f+MZrGd78HQZ9ROU6u",
      "include_colab_link": true
    },
    "kernelspec": {
      "name": "python3",
      "display_name": "Python 3"
    }
  },
  "cells": [
    {
      "cell_type": "markdown",
      "metadata": {
        "id": "view-in-github",
        "colab_type": "text"
      },
      "source": [
        "<a href=\"https://colab.research.google.com/github/praveenwork/ml/blob/main/Practice/NLP_1.ipynb\" target=\"_parent\"><img src=\"https://colab.research.google.com/assets/colab-badge.svg\" alt=\"Open In Colab\"/></a>"
      ]
    },
    {
      "cell_type": "code",
      "metadata": {
        "colab": {
          "base_uri": "https://localhost:8080/"
        },
        "id": "F-tQB7rK1psO",
        "outputId": "8b089ef9-501e-45ea-d7f0-c0686ea8661c"
      },
      "source": [
        "import tensorflow as tf\n",
        "from tensorflow.keras.preprocessing.text import Tokenizer\n",
        "\n",
        "sentences = [\n",
        "    'I love my cat',\n",
        "    'i love my dog',\n",
        "    'Do you love your cat?'\n",
        "]\n",
        "\n",
        "\n",
        "tokenizer = Tokenizer(num_words = 100)\n",
        "tokenizer.fit_on_texts(sentences)\n",
        "word_index = tokenizer.word_index\n",
        "\n",
        "print(word_index)\n",
        "\n",
        "\n"
      ],
      "execution_count": 5,
      "outputs": [
        {
          "output_type": "stream",
          "text": [
            "{'love': 1, 'i': 2, 'my': 3, 'cat': 4, 'dog': 5, 'do': 6, 'you': 7, 'your': 8}\n"
          ],
          "name": "stdout"
        }
      ]
    },
    {
      "cell_type": "code",
      "metadata": {
        "colab": {
          "base_uri": "https://localhost:8080/"
        },
        "id": "LBt235DSgg4D",
        "outputId": "e3627bb5-4331-432d-a69c-373808cce46e"
      },
      "source": [
        "#Sequeces\n",
        "\n",
        "import tensorflow as tf\n",
        "from tensorflow.keras.preprocessing.text import Tokenizer\n",
        "\n",
        "\n",
        "setences = [\n",
        "    'I love my cat',\n",
        "    'I love my dog',\n",
        "    'what is the name of your dog?'\n",
        "]\n",
        "\n",
        "tokenizer = Tokenizer(num_words = 100)\n",
        "tokenizer.fit_on_texts(setences)\n",
        "word_index = tokenizer.word_index\n",
        "print(word_index)\n",
        "\n",
        "sequences = tokenizer.texts_to_sequences(setences)\n",
        "print(sequences)\n"
      ],
      "execution_count": 11,
      "outputs": [
        {
          "output_type": "stream",
          "text": [
            "{'i': 1, 'love': 2, 'my': 3, 'dog': 4, 'cat': 5, 'what': 6, 'is': 7, 'the': 8, 'name': 9, 'of': 10, 'your': 11}\n",
            "[[1, 2, 3, 5], [1, 2, 3, 4], [6, 7, 8, 9, 10, 11, 4]]\n"
          ],
          "name": "stdout"
        }
      ]
    },
    {
      "cell_type": "code",
      "metadata": {
        "colab": {
          "base_uri": "https://localhost:8080/"
        },
        "id": "qTqJfUtrkayY",
        "outputId": "625c7ee9-bae6-44a3-b5dc-82b816122dae"
      },
      "source": [
        "# Test data\n",
        "# Skips the data if the word no exist in the corpus of words.\n",
        "\n",
        "test_data = [\n",
        "    \"i love my horse\",\n",
        "    \"do you love any pets?\"\n",
        "]\n",
        "\n",
        "test_sequences = tokenizer.texts_to_sequences(test_data)\n",
        "print(test_sequences)\n"
      ],
      "execution_count": 12,
      "outputs": [
        {
          "output_type": "stream",
          "text": [
            "[[1, 2, 3], [2]]\n"
          ],
          "name": "stdout"
        }
      ]
    },
    {
      "cell_type": "code",
      "metadata": {
        "colab": {
          "base_uri": "https://localhost:8080/"
        },
        "id": "nFVxYfh4mFdM",
        "outputId": "3504cadd-d1ec-4174-fa7d-b2457364c1cb"
      },
      "source": [
        "# out of word = OOV_TOKEN\n",
        "\n",
        "from tensorflow.keras.preprocessing.text import Tokenizer\n",
        "\n",
        "setences = [\n",
        "    \"I love my cat\",\n",
        "    \"I love my dog\",\n",
        "    \"i like my horse\",\n",
        "    \"Do you love your pet?\"\n",
        "]\n",
        "\n",
        "tokenizer = Tokenizer(oov_token=\"<OOV>\")\n",
        "tokenizer.fit_on_texts(setences)\n",
        "word_index = tokenizer.word_index\n",
        "word_count = tokenizer.word_counts\n",
        "word_docs = tokenizer.word_docs\n",
        "print(\"OOV Token:\", tokenizer.oov_token)\n",
        "print(\"Word Index: \", word_index)\n",
        "print(\"Word Count: \", word_count)\n",
        "print(\"Word docs: \", word_docs)\n",
        "\n",
        "sequences = tokenizer.texts_to_sequences(setences)\n",
        "print(\"Sequences: \", sequences)\n",
        "\n",
        "# Test Data\n",
        "test_data = [\n",
        "    \"I really love my cats\",\n",
        "    \"Do you love any pets?\"\n",
        "]\n",
        "\n",
        "test_sequences = tokenizer.texts_to_sequences(test_data)\n",
        "print(\"Test Sequences: \", test_sequences)\n"
      ],
      "execution_count": 13,
      "outputs": [
        {
          "output_type": "stream",
          "text": [
            "OOV Token: <OOV>\n",
            "Word Index:  {'<OOV>': 1, 'i': 2, 'love': 3, 'my': 4, 'cat': 5, 'dog': 6, 'like': 7, 'horse': 8, 'do': 9, 'you': 10, 'your': 11, 'pet': 12}\n",
            "Word Count:  OrderedDict([('i', 3), ('love', 3), ('my', 3), ('cat', 1), ('dog', 1), ('like', 1), ('horse', 1), ('do', 1), ('you', 1), ('your', 1), ('pet', 1)])\n",
            "Word docs:  defaultdict(<class 'int'>, {'love': 3, 'my': 3, 'cat': 1, 'i': 3, 'dog': 1, 'horse': 1, 'like': 1, 'you': 1, 'pet': 1, 'do': 1, 'your': 1})\n",
            "Sequences:  [[2, 3, 4, 5], [2, 3, 4, 6], [2, 7, 4, 8], [9, 10, 3, 11, 12]]\n",
            "Test Sequences:  [[2, 1, 3, 4, 1], [9, 10, 3, 1, 1]]\n"
          ],
          "name": "stdout"
        }
      ]
    },
    {
      "cell_type": "code",
      "metadata": {
        "id": "ySYr1Ej9oTNk"
      },
      "source": [
        ""
      ],
      "execution_count": null,
      "outputs": []
    }
  ]
}