{
  "nbformat": 4,
  "nbformat_minor": 0,
  "metadata": {
    "colab": {
      "name": "TransferLearning.ipynb",
      "provenance": [],
      "collapsed_sections": [],
      "authorship_tag": "ABX9TyO3SyuUgsuNHdLv2NMzdR7X",
      "include_colab_link": true
    },
    "kernelspec": {
      "name": "python3",
      "display_name": "Python 3"
    },
    "accelerator": "GPU"
  },
  "cells": [
    {
      "cell_type": "markdown",
      "metadata": {
        "id": "view-in-github",
        "colab_type": "text"
      },
      "source": [
        "<a href=\"https://colab.research.google.com/github/praveenwork/ml/blob/main/Practice/TransferLearning.ipynb\" target=\"_parent\"><img src=\"https://colab.research.google.com/assets/colab-badge.svg\" alt=\"Open In Colab\"/></a>"
      ]
    },
    {
      "cell_type": "code",
      "metadata": {
        "colab": {
          "base_uri": "https://localhost:8080/"
        },
        "id": "5fABLa_2Uz7b",
        "outputId": "ac6cb532-d424-4372-8e39-935554d7bccd"
      },
      "source": [
        "import os\n",
        "\n",
        "import tensorflow as tf\n",
        "import zipfile\n",
        "from tensorflow.keras.preprocessing.image import ImageDataGenerator\n",
        "\n",
        "from tensorflow.keras.applications.inception_v3 import InceptionV3\n",
        "\n",
        "\n",
        "\n",
        "\n",
        "# Download the pre trained models\n",
        "\n",
        "!wget --no-check-certificate \\\n",
        "  https://storage.googleapis.com/mledu-datasets/inception_v3_weights_tf_dim_ordering_tf_kernels_notop.h5 \\\n",
        "  -O /tmp/inception_v3_weights_tf_dim_ordering_tf_kernels_notop.h5\n",
        "\n",
        "local_weight_file = \"/tmp/inception_v3_weights_tf_dim_ordering_tf_kernels_notop.h5\"\n",
        "\n",
        "\n",
        "# Define Pre trained model\n",
        "pre_trained_model = InceptionV3(input_shape = (150,150, 3),\n",
        "                                include_top = False,\n",
        "                                weights = None)\n",
        "\n",
        "pre_trained_model.load_weights(local_weight_file)\n",
        "\n",
        "for layer in pre_trained_model.layers:\n",
        "  layer.trainable = False\n",
        "\n",
        "last_layer = pre_trained_model.get_layer(\"mixed7\")\n",
        "print(\"Last output shape: \", last_layer.output_shape)\n",
        "last_out = last_layer.output\n",
        "\n",
        "\n",
        "x = tf.keras.layers.Flatten()(last_out)\n",
        "x = tf.keras.layers.Dense(512, activation=tf.nn.relu)(x)\n",
        "x = tf.keras.layers.Dropout(0.2)(x)\n",
        "x = tf.keras.layers.Dense(1, activation = tf.nn.sigmoid)(x)\n",
        "\n",
        "\n",
        "# Define Model\n",
        "model = tf.keras.Model(pre_trained_model.input, x)\n",
        "\n",
        "# Complile \n",
        "model.compile(optimizer = tf.keras.optimizers.RMSprop(lr = 0.01), loss = \"binary_crossentropy\", metrics = ['accuracy'])\n",
        "\n",
        "#download cats and dogs.\n",
        "\n",
        "!wget --no-check-certificate \\\n",
        "        https://storage.googleapis.com/mledu-datasets/cats_and_dogs_filtered.zip \\\n",
        "       -O /tmp/cats_and_dogs_filtered.zip\n",
        "\n",
        "\n",
        "\n",
        "#unzip the file\n",
        "zip_ref = zipfile.ZipFile(\"/tmp/cats_and_dogs_filtered.zip\")\n",
        "zip_ref.extractall(\"/tmp\")\n",
        "zip_ref.close()\n",
        "\n",
        "\n",
        "#Train Data gen\n",
        "tain_datagen = ImageDataGenerator(\n",
        "    rescale = 1./255,\n",
        "    rotation_range = 40,\n",
        "    width_shift_range = 0.2,\n",
        "    height_shift_range = 0.2,\n",
        "    zoom_range = 0.2,\n",
        "    shear_range = 0.2,\n",
        "    horizontal_flip = True,\n",
        "    fill_mode = 'nearest'\n",
        ")\n",
        "\n",
        "train_generator = tain_datagen.flow_from_directory(\n",
        "    \"/tmp/cats_and_dogs_filtered/train\",\n",
        "    target_size = (150,150),\n",
        "    batch_size = 20,\n",
        "    class_mode = \"binary\"\n",
        ")\n",
        "\n",
        "\n",
        "validation_datagen = ImageDataGenerator(rescale = 1./255)\n",
        "validation_generator = validation_datagen.flow_from_directory(\n",
        "    \"/tmp/cats_and_dogs_filtered/validation\",\n",
        "    target_size = (150,150),\n",
        "    batch_size = 20,\n",
        "    class_mode = 'binary'\n",
        ")\n",
        "\n",
        "history = model.fit(\n",
        "    train_generator,\n",
        "    steps_per_epoch = 100,\n",
        "    epochs = 20,\n",
        "    validation_data = validation_generator,\n",
        "    validation_steps = 50,\n",
        "    verbose = 1\n",
        ")\n",
        "\n",
        "\n",
        "\n"
      ],
      "execution_count": 1,
      "outputs": [
        {
          "output_type": "stream",
          "text": [
            "--2021-02-11 12:39:10--  https://storage.googleapis.com/mledu-datasets/inception_v3_weights_tf_dim_ordering_tf_kernels_notop.h5\n",
            "Resolving storage.googleapis.com (storage.googleapis.com)... 172.217.7.144, 172.217.7.176, 172.217.12.240, ...\n",
            "Connecting to storage.googleapis.com (storage.googleapis.com)|172.217.7.144|:443... connected.\n",
            "HTTP request sent, awaiting response... 200 OK\n",
            "Length: 87910968 (84M) [application/x-hdf]\n",
            "Saving to: ‘/tmp/inception_v3_weights_tf_dim_ordering_tf_kernels_notop.h5’\n",
            "\n",
            "/tmp/inception_v3_w 100%[===================>]  83.84M   197MB/s    in 0.4s    \n",
            "\n",
            "2021-02-11 12:39:10 (197 MB/s) - ‘/tmp/inception_v3_weights_tf_dim_ordering_tf_kernels_notop.h5’ saved [87910968/87910968]\n",
            "\n",
            "Last output shape:  (None, 7, 7, 768)\n",
            "--2021-02-11 12:39:18--  https://storage.googleapis.com/mledu-datasets/cats_and_dogs_filtered.zip\n",
            "Resolving storage.googleapis.com (storage.googleapis.com)... 142.250.31.128, 172.217.164.144, 142.250.73.208, ...\n",
            "Connecting to storage.googleapis.com (storage.googleapis.com)|142.250.31.128|:443... connected.\n",
            "HTTP request sent, awaiting response... 200 OK\n",
            "Length: 68606236 (65M) [application/zip]\n",
            "Saving to: ‘/tmp/cats_and_dogs_filtered.zip’\n",
            "\n",
            "/tmp/cats_and_dogs_ 100%[===================>]  65.43M   115MB/s    in 0.6s    \n",
            "\n",
            "2021-02-11 12:39:18 (115 MB/s) - ‘/tmp/cats_and_dogs_filtered.zip’ saved [68606236/68606236]\n",
            "\n",
            "Found 2000 images belonging to 2 classes.\n",
            "Found 1000 images belonging to 2 classes.\n",
            "Epoch 1/20\n",
            "100/100 [==============================] - 28s 189ms/step - loss: 32.1307 - accuracy: 0.7654 - val_loss: 1.6213 - val_accuracy: 0.7870\n",
            "Epoch 2/20\n",
            "100/100 [==============================] - 18s 179ms/step - loss: 0.8240 - accuracy: 0.8544 - val_loss: 0.2261 - val_accuracy: 0.9390\n",
            "Epoch 3/20\n",
            "100/100 [==============================] - 18s 177ms/step - loss: 0.6952 - accuracy: 0.8783 - val_loss: 0.1505 - val_accuracy: 0.9490\n",
            "Epoch 4/20\n",
            "100/100 [==============================] - 18s 178ms/step - loss: 0.4648 - accuracy: 0.8901 - val_loss: 0.3336 - val_accuracy: 0.9230\n",
            "Epoch 5/20\n",
            "100/100 [==============================] - 18s 178ms/step - loss: 0.4560 - accuracy: 0.8984 - val_loss: 0.2334 - val_accuracy: 0.9390\n",
            "Epoch 6/20\n",
            "100/100 [==============================] - 18s 178ms/step - loss: 0.4602 - accuracy: 0.8803 - val_loss: 0.1956 - val_accuracy: 0.9520\n",
            "Epoch 7/20\n",
            "100/100 [==============================] - 18s 178ms/step - loss: 0.3590 - accuracy: 0.9113 - val_loss: 0.2426 - val_accuracy: 0.9530\n",
            "Epoch 8/20\n",
            "100/100 [==============================] - 18s 179ms/step - loss: 0.5477 - accuracy: 0.9111 - val_loss: 0.1912 - val_accuracy: 0.9600\n",
            "Epoch 9/20\n",
            "100/100 [==============================] - 18s 180ms/step - loss: 0.3687 - accuracy: 0.9055 - val_loss: 1.3588 - val_accuracy: 0.8670\n",
            "Epoch 10/20\n",
            "100/100 [==============================] - 18s 177ms/step - loss: 0.5163 - accuracy: 0.8976 - val_loss: 0.2452 - val_accuracy: 0.9520\n",
            "Epoch 11/20\n",
            "100/100 [==============================] - 18s 178ms/step - loss: 0.3346 - accuracy: 0.9272 - val_loss: 0.1935 - val_accuracy: 0.9600\n",
            "Epoch 12/20\n",
            "100/100 [==============================] - 18s 177ms/step - loss: 0.4764 - accuracy: 0.9212 - val_loss: 0.2457 - val_accuracy: 0.9550\n",
            "Epoch 13/20\n",
            "100/100 [==============================] - 18s 179ms/step - loss: 0.2955 - accuracy: 0.9278 - val_loss: 0.2784 - val_accuracy: 0.9670\n",
            "Epoch 14/20\n",
            "100/100 [==============================] - 18s 178ms/step - loss: 0.3345 - accuracy: 0.9260 - val_loss: 0.2665 - val_accuracy: 0.9590\n",
            "Epoch 15/20\n",
            "100/100 [==============================] - 18s 177ms/step - loss: 0.3745 - accuracy: 0.9197 - val_loss: 0.2540 - val_accuracy: 0.9620\n",
            "Epoch 16/20\n",
            "100/100 [==============================] - 18s 177ms/step - loss: 0.4182 - accuracy: 0.9157 - val_loss: 0.4051 - val_accuracy: 0.9500\n",
            "Epoch 17/20\n",
            "100/100 [==============================] - 18s 178ms/step - loss: 0.3857 - accuracy: 0.9149 - val_loss: 0.1992 - val_accuracy: 0.9640\n",
            "Epoch 18/20\n",
            "100/100 [==============================] - 18s 179ms/step - loss: 0.3238 - accuracy: 0.9321 - val_loss: 0.2092 - val_accuracy: 0.9600\n",
            "Epoch 19/20\n",
            "100/100 [==============================] - 18s 177ms/step - loss: 0.3077 - accuracy: 0.9173 - val_loss: 0.3565 - val_accuracy: 0.9520\n",
            "Epoch 20/20\n",
            "100/100 [==============================] - 18s 177ms/step - loss: 0.3415 - accuracy: 0.9203 - val_loss: 0.3201 - val_accuracy: 0.9570\n"
          ],
          "name": "stdout"
        }
      ]
    },
    {
      "cell_type": "code",
      "metadata": {
        "id": "OfWFllludSB5",
        "colab": {
          "base_uri": "https://localhost:8080/",
          "height": 533
        },
        "outputId": "3dd071f9-dd7b-4f5f-ce93-0439d6292814"
      },
      "source": [
        "import matplotlib.pyplot as plt\n",
        "\n",
        "training_accuracy = history.history['accuracy']\n",
        "training_loss = history.history['loss']\n",
        "validation_accuracy = history.history['val_accuracy']\n",
        "validation_loss = history.history['val_loss']\n",
        "\n",
        "epochs = range(len(training_accuracy))\n",
        "\n",
        "plt.plot(epochs, training_accuracy)\n",
        "plt.plot(epochs, validation_accuracy)\n",
        "plt.figure()\n",
        "\n",
        "\n",
        "plt.plot(epochs, training_loss)\n",
        "plt.plot(epochs, validation_loss)\n",
        "plt.figure()\n",
        "\n",
        "\n",
        "plt.show()"
      ],
      "execution_count": 2,
      "outputs": [
        {
          "output_type": "display_data",
          "data": {
            "image/png": "[encoded data removed]",
            "text/plain": [
              "<Figure size 432x288 with 1 Axes>"
            ]
          },
          "metadata": {
            "tags": [],
            "needs_background": "light"
          }
        },
        {
          "output_type": "display_data",
          "data": {
            "image/png": "[encoded data removed]",
            "text/plain": [
              "<Figure size 432x288 with 1 Axes>"
            ]
          },
          "metadata": {
            "tags": [],
            "needs_background": "light"
          }
        },
        {
          "output_type": "display_data",
          "data": {
            "text/plain": [
              "<Figure size 432x288 with 0 Axes>"
            ]
          },
          "metadata": {
            "tags": []
          }
        }
      ]
    },
    {
      "cell_type": "code",
      "metadata": {
        "id": "gk6W30aVzjOx"
      },
      "source": [
        ""
      ],
      "execution_count": null,
      "outputs": []
    }
  ]
}